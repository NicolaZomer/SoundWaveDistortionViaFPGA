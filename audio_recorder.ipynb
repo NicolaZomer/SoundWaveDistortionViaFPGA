{
 "cells": [
  {
   "cell_type": "markdown",
   "metadata": {},
   "source": [
    "# Clipping effect generator"
   ]
  },
  {
   "cell_type": "code",
   "execution_count": 2,
   "metadata": {},
   "outputs": [],
   "source": [
    "import pyaudio\n",
    "import wave\n",
    "import numpy as np\n",
    "import matplotlib.pyplot as plt\n",
    "from scipy import fftpack \n",
    "import time\n",
    "from tkinter import TclError\n",
    "%matplotlib qt"
   ]
  },
  {
   "cell_type": "code",
   "execution_count": 3,
   "metadata": {},
   "outputs": [],
   "source": [
    "# input devices\n",
    "import sounddevice as sd\n",
    "print(sd.query_devices()) \n",
    "\n",
    "# from the output list select the number of the desired input device and give it to the variable \"INDEX\""
   ]
  },
  {
   "cell_type": "markdown",
   "metadata": {},
   "source": [
    "## Audio recording"
   ]
  },
  {
   "cell_type": "code",
   "execution_count": 19,
   "metadata": {},
   "outputs": [],
   "source": [
    "# constants\n",
    "INDEX = 4                           # audio device index\n",
    "CHUNK = 1024 * 2                    # how many audio samples per frame we display \n",
    "FORMAT = pyaudio.paInt16            # 16bit format per sample\n",
    "CHANNELS = 1                        # single channel for microphone\n",
    "RATE = 44100                        # samples per second [Hz] (common choice)\n",
    "rec_time = 10                       # recording time [seconds]\n",
    "delay_time = 2                      # time after which it starts recording [seconds]\n",
    "clipping_start = 0                  # approximate value at which clipping begins (to be found from the graph) \n",
    "\n",
    "# output file\n",
    "filename = 'output.wav'"
   ]
  },
  {
   "cell_type": "code",
   "execution_count": 14,
   "metadata": {},
   "outputs": [
    {
     "name": "stdout",
     "output_type": "stream",
     "text": [
      "Process started\n",
      "Start recording (after t=2s)\n",
      "Finished recording\n",
      "Recorded for 10 seconds\n"
     ]
    }
   ],
   "source": [
    "# pyaudio class instance\n",
    "p = pyaudio.PyAudio()\n",
    "\n",
    "# stream object to get data from microphone\n",
    "stream = p.open(\n",
    "    format=FORMAT,\n",
    "    channels=CHANNELS,\n",
    "    rate=RATE,\n",
    "    input=True,\n",
    "    frames_per_buffer=CHUNK,\n",
    "    input_device_index=INDEX\n",
    ")\n",
    "\n",
    "# COLLECT AUDIO DATA\n",
    "start_time = time.time()\n",
    "\n",
    "# delay\n",
    "print('Process started')\n",
    "while True:\n",
    "    current_time = time.time()\n",
    "    elapsed_delaytime = current_time - start_time\n",
    "    if elapsed_delaytime > delay_time: \n",
    "        break\n",
    "    \n",
    "# recording\n",
    "print('Start recording (after t=%is)' %elapsed_delaytime)\n",
    "\n",
    "frames = []\n",
    "while True:\n",
    "    current_time = time.time()\n",
    "    elapsed_time = current_time - (start_time + delay_time)\n",
    "    \n",
    "    if elapsed_time > rec_time: \n",
    "        break\n",
    "    \n",
    "    # binary data\n",
    "    data = stream.read(CHUNK)   # read 1 chunk at a time\n",
    "    frames.append(data)\n",
    "    \n",
    "print('Finished recording')\n",
    "print('Recorded for %i seconds' %elapsed_time)\n",
    "stream.stop_stream()\n",
    "stream.close()\n",
    "p.terminate()  \n",
    "\n",
    "# Save the recorded data as a WAV file\n",
    "wf = wave.open(filename, 'wb')\n",
    "wf.setnchannels(CHANNELS)\n",
    "wf.setsampwidth(p.get_sample_size(FORMAT))\n",
    "wf.setframerate(RATE)\n",
    "wf.writeframes(b''.join(frames))\n",
    "wf.close()\n",
    "\n",
    "# join the frames and convert to integers\n",
    "amplitude = np.frombuffer(b''.join(frames), dtype=np.int16)"
   ]
  },
  {
   "cell_type": "markdown",
   "metadata": {},
   "source": [
    "## Waveform and spectrogram plots"
   ]
  },
  {
   "cell_type": "code",
   "execution_count": 28,
   "metadata": {},
   "outputs": [],
   "source": [
    "# plot the signal\n",
    "fig, ax0 = plt.subplots(1, figsize=(15, 8))\n",
    "ax0.set_title('AUDIO WAVEFORM', fontsize=15)\n",
    "ax0.set_xlabel('Samples', fontsize=14)\n",
    "ax0.set_ylabel('Amplitude', fontsize=14)\n",
    "ax0.plot(amplitude)\n",
    "plt.show()\n",
    "plt.savefig('output_images/waveform.png',  bbox_inches='tight')\n",
    "\n",
    "# plot the spectrogram\n",
    "fig, ax1 = plt.subplots(1, figsize=(15, 8))\n",
    "ax1.set_title('SPECTROGRAM', fontsize=15)\n",
    "ax1.specgram(amplitude)\n",
    "plt.show()\n",
    "plt.savefig('output_images/spectrogram.png', bbox_inches='tight')\n",
    "    "
   ]
  },
  {
   "cell_type": "markdown",
   "metadata": {},
   "source": [
    "## FFT of the signal"
   ]
  },
  {
   "cell_type": "code",
   "execution_count": 27,
   "metadata": {},
   "outputs": [
    {
     "name": "stdout",
     "output_type": "stream",
     "text": [
      "Peak frequency: 0.001509\n"
     ]
    }
   ],
   "source": [
    "# FFT of the signal\n",
    "sig_fft = fftpack.fft(amplitude[clipping_start:])\n",
    "\n",
    "# power (sig_fft is of complex dtype)\n",
    "power = np.abs(sig_fft) # these are the \"weights\" of the Fourier components for each discrete frequency interval\n",
    "\n",
    "# return the corresponding frequencies\n",
    "sample_freq = fftpack.fftfreq(amplitude[clipping_start:].size)\n",
    "\n",
    "# plot the FFT power\n",
    "plt.figure(figsize=(15, 7))\n",
    "plt.plot(sample_freq, power)\n",
    "plt.title('FFT of the signal', fontsize=15)\n",
    "plt.xlabel('Frequency [Hz]', fontsize=14)\n",
    "plt.ylabel('Power', fontsize=14)\n",
    "\n",
    "# find the peak frequency: focus only on only the positive frequencies\n",
    "pos_mask = np.where(sample_freq > 0)\n",
    "freqs = sample_freq[pos_mask]\n",
    "pos_power = power[pos_mask]\n",
    "# find the max of freqs array\n",
    "peak_freq = freqs[pos_power.argmax()]\n",
    "print(\"Peak frequency: %.6f\" %peak_freq)\n",
    "\n",
    "# inner plot to show the peak frequency\n",
    "axes = plt.axes([0.62, 0.42, 0.25, 0.4])\n",
    "plt.title('Peak frequency', fontsize=14)\n",
    "plt.plot(freqs[:5000], pos_power[:5000])\n",
    "plt.setp(axes, yticks=[])\n",
    "plt.show()\n",
    "plt.savefig('output_images/FFT.png', bbox_inches='tight')\n",
    "\n",
    "# scipy.signal.find_peaks_cwt can also be used for more advanced peak detection"
   ]
  }
 ],
 "metadata": {
  "interpreter": {
   "hash": "927d6aa93355da8a3b2cb214f5541d9939fc72c090640a18bce73818c0d7a619"
  },
  "kernelspec": {
   "display_name": "Python 3.8.12 ('MAPD')",
   "language": "python",
   "name": "python3"
  },
  "language_info": {
   "codemirror_mode": {
    "name": "ipython",
    "version": 3
   },
   "file_extension": ".py",
   "mimetype": "text/x-python",
   "name": "python",
   "nbconvert_exporter": "python",
   "pygments_lexer": "ipython3",
   "version": "3.7.11"
  },
  "orig_nbformat": 4
 },
 "nbformat": 4,
 "nbformat_minor": 2
}
