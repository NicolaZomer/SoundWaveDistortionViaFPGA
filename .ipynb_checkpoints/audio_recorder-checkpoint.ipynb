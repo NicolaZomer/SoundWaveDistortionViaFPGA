{
 "cells": [
  {
   "cell_type": "markdown",
   "metadata": {},
   "source": [
    "# Audio Recorder and Analyzer"
   ]
  },
  {
   "cell_type": "code",
   "execution_count": 1,
   "metadata": {},
   "outputs": [],
   "source": [
    "import pyaudio\n",
    "import wave\n",
    "import numpy as np\n",
    "import matplotlib.pyplot as plt\n",
    "from scipy import fftpack \n",
    "import time\n",
    "from tkinter import TclError\n",
    "%matplotlib qt"
   ]
  },
  {
   "cell_type": "code",
   "execution_count": 2,
   "metadata": {},
   "outputs": [
    {
     "name": "stdout",
     "output_type": "stream",
     "text": [
      "   0 Microsoft Sound Mapper - Input, MME (2 in, 0 out)\n",
      ">  1 Linea in ingresso (Realtek(R) A, MME (2 in, 0 out)\n",
      "   2 Linea (NewTek NDI Audio), MME (2 in, 0 out)\n",
      "   3 Microfono (Logitech G433 Gaming, MME (2 in, 0 out)\n",
      "   4 Microfono (DroidCam Virtual Aud, MME (1 in, 0 out)\n",
      "   5 Microsoft Sound Mapper - Output, MME (0 in, 2 out)\n",
      "<  6 Altoparlanti (Logitech G433 Gam, MME (0 in, 8 out)\n",
      "   7 ITMF27V14QHD (NVIDIA High Defin, MME (0 in, 2 out)\n",
      "   8 Realtek Digital Output (Realtek, MME (0 in, 2 out)\n",
      "   9 Output (NVIDIA High Definition Audio), Windows WDM-KS (0 in, 2 out)\n",
      "  10 Microfono (), Windows WDM-KS (2 in, 0 out)\n",
      "  11 Altoparlanti (), Windows WDM-KS (0 in, 8 out)\n",
      "  12 Linea in ingresso (Realtek HD Audio Line input), Windows WDM-KS (2 in, 0 out)\n",
      "  13 Missaggio stereo (Realtek HD Audio Stereo input), Windows WDM-KS (2 in, 0 out)\n",
      "  14 Headphones (Realtek HD Audio 2nd output), Windows WDM-KS (0 in, 2 out)\n",
      "  15 Speakers (Realtek HD Audio output), Windows WDM-KS (0 in, 8 out)\n",
      "  16 Microfono (Realtek HD Audio Mic input), Windows WDM-KS (2 in, 0 out)\n",
      "  17 SPDIF Out (Realtek HDA SPDIF Out), Windows WDM-KS (0 in, 2 out)\n",
      "  18 MIDI (DroidCam Audio), Windows WDM-KS (1 in, 0 out)\n",
      "  19 Output (DroidCam Audio), Windows WDM-KS (0 in, 1 out)\n",
      "  20 Linea (Aud #1), Windows WDM-KS (2 in, 0 out)\n",
      "  21 Cuffie (), Windows WDM-KS (0 in, 2 out)\n",
      "  22 Output (@System32\\drivers\\bthhfenum.sys,#4;%1 Hands-Free HF Audio%0\n",
      ";(Honor View10)), Windows WDM-KS (0 in, 1 out)\n",
      "  23 Input (@System32\\drivers\\bthhfenum.sys,#4;%1 Hands-Free HF Audio%0\n",
      ";(Honor View10)), Windows WDM-KS (1 in, 0 out)\n",
      "  24 Linea (), Windows WDM-KS (2 in, 0 out)\n",
      "  25 Cuffia auricolare (@System32\\drivers\\bthhfenum.sys,#2;%1 Hands-Free AG Audio%0\n",
      ";(HBUDS H1)), Windows WDM-KS (0 in, 1 out)\n",
      "  26 Cuffia auricolare (@System32\\drivers\\bthhfenum.sys,#2;%1 Hands-Free AG Audio%0\n",
      ";(HBUDS H1)), Windows WDM-KS (1 in, 0 out)\n"
     ]
    }
   ],
   "source": [
    "# input devices\n",
    "import sounddevice as sd\n",
    "print(sd.query_devices()) \n",
    "\n",
    "# from the output list select the number of the desired input device and give it to the variable \"INDEX\""
   ]
  },
  {
   "cell_type": "markdown",
   "metadata": {},
   "source": [
    "## Parameters"
   ]
  },
  {
   "cell_type": "code",
   "execution_count": 3,
   "metadata": {},
   "outputs": [],
   "source": [
    "# constants\n",
    "INDEX = 1                           # audio device index\n",
    "CHUNK = 1024 * 2                    # how many audio samples per frame we display \n",
    "FORMAT = pyaudio.paInt16            # 16bit format per sample\n",
    "CHANNELS = 1                        # single channel for microphone\n",
    "RATE = 44100                        # samples per second [Hz] (common choice)\n",
    "rec_time = 20                       # recording time [seconds]\n",
    "delay_time = 2                      # time after which it starts recording [seconds]\n",
    "\n",
    "# output file\n",
    "# filename = 'output.wav'"
   ]
  },
  {
   "cell_type": "markdown",
   "metadata": {},
   "source": [
    "## Audio recording\n",
    "To analyze an already registred signal, skip this part."
   ]
  },
  {
   "cell_type": "code",
   "execution_count": 48,
   "metadata": {},
   "outputs": [
    {
     "name": "stdout",
     "output_type": "stream",
     "text": [
      " a41.wav\n",
      "Process started\n",
      "Start recording (after t=2s)\n",
      "Finished recording\n",
      "Recorded for 20 seconds\n"
     ]
    }
   ],
   "source": [
    "filename = input()\n",
    "\n",
    "# pyaudio class instance\n",
    "p = pyaudio.PyAudio()\n",
    "\n",
    "# stream object to get data from microphone\n",
    "stream = p.open(\n",
    "    format=FORMAT,\n",
    "    channels=CHANNELS,\n",
    "    rate=RATE,\n",
    "    input=True,\n",
    "    frames_per_buffer=CHUNK,\n",
    "    input_device_index=INDEX\n",
    ")\n",
    "\n",
    "# START COLLECTING AUDIO DATA\n",
    "start_time = time.time()\n",
    "\n",
    "# delay\n",
    "print('Process started')\n",
    "while True:\n",
    "    current_time = time.time()\n",
    "    elapsed_delaytime = current_time - start_time\n",
    "    if elapsed_delaytime > delay_time: \n",
    "        break\n",
    "    \n",
    "# recording\n",
    "print('Start recording (after t=%is)' %elapsed_delaytime)\n",
    "\n",
    "frames = []\n",
    "while True:\n",
    "    current_time = time.time()\n",
    "    elapsed_time = current_time - (start_time + delay_time)\n",
    "    \n",
    "    if elapsed_time > rec_time: \n",
    "        break\n",
    "    \n",
    "    # binary data\n",
    "    data = stream.read(CHUNK)   # read 1 chunk at a time\n",
    "    frames.append(data)\n",
    "    \n",
    "print('Finished recording')\n",
    "print('Recorded for %i seconds' %elapsed_time)\n",
    "stream.stop_stream()\n",
    "stream.close()\n",
    "p.terminate()  \n",
    "\n",
    "# save the recorded data as a WAV file\n",
    "wf = wave.open(filename, 'wb')\n",
    "wf.setnchannels(CHANNELS)\n",
    "wf.setsampwidth(p.get_sample_size(FORMAT))\n",
    "wf.setframerate(RATE)\n",
    "wf.writeframes(b''.join(frames))\n",
    "wf.close()\n",
    "\n",
    "# join the frames and convert to integers\n",
    "amplitude = np.frombuffer(b''.join(frames), dtype=np.int16)"
   ]
  },
  {
   "cell_type": "markdown",
   "metadata": {},
   "source": [
    "## Recorded signal (saved as .wav file)"
   ]
  },
  {
   "cell_type": "code",
   "execution_count": 22,
   "metadata": {},
   "outputs": [
    {
     "name": "stdout",
     "output_type": "stream",
     "text": [
      "Sample rate of the .wav file:  44100\n"
     ]
    }
   ],
   "source": [
    "from scipy.io.wavfile import read\n",
    "\n",
    "rec_filename = 'waves/a41.wav'\n",
    "\n",
    "# convert the wav file into a numpy array\n",
    "sample_rate, file_data = read(rec_filename)\n",
    "amplitude = np.array(file_data, dtype=float)\n",
    "\n",
    "print('Sample rate of the .wav file: ', sample_rate)\n",
    "if sample_rate!=RATE: print('The sample rate does not match RATE')"
   ]
  },
  {
   "cell_type": "markdown",
   "metadata": {
    "tags": []
   },
   "source": [
    "## Waveform and spectrogram plots"
   ]
  },
  {
   "cell_type": "code",
   "execution_count": 23,
   "metadata": {},
   "outputs": [],
   "source": [
    "# plot the signal\n",
    "fig, ax0 = plt.subplots(1, figsize=(15, 8))\n",
    "ax0.set_title('AUDIO WAVEFORM', fontsize=15)\n",
    "ax0.set_xlabel('Samples', fontsize=14)\n",
    "ax0.set_ylabel('Amplitude', fontsize=14)\n",
    "ax0.plot(amplitude)\n",
    "plt.show()\n",
    "plt.savefig('./output_images/waveform.png',  bbox_inches='tight')\n",
    "\n",
    "fig, ax1 = plt.subplots(1, figsize=(15, 8))\n",
    "ax1.set_title('AUDIO WAVEFORM', fontsize=15)\n",
    "ax1.set_xlabel('Time [s]', fontsize=14)\n",
    "ax1.set_ylabel('Amplitude [a.u.]', fontsize=14)\n",
    "ax1.plot(np.arange(0, len(amplitude))/RATE,amplitude)\n",
    "plt.show()\n",
    "plt.savefig('./output_images/waveform_time.png',  bbox_inches='tight')\n",
    "\n",
    " "
   ]
  },
  {
   "cell_type": "code",
   "execution_count": 8,
   "metadata": {},
   "outputs": [],
   "source": [
    "def specgram2d(y, srate=44100, ax=None, title=None):\n",
    "    if not ax:\n",
    "        ax = plt.axes()\n",
    "        ax.set_title(title, loc='center', wrap=True, fontsize=15)\n",
    "    spec, freqs, t, im = ax.specgram(y, Fs=srate, scale='dB', vmax=0, NFFT=4096)\n",
    "    ax.set_xlabel('Time [s]', fontsize=14)\n",
    "    ax.set_ylabel('Frequencies [Hz]', fontsize=14)\n",
    "    cbar = plt.colorbar(im, ax=ax)\n",
    "    cbar.set_label('Amplitude [dB]', fontsize=14)\n",
    "    cbar.minorticks_on()\n",
    "    return spec, freqs, t, im"
   ]
  },
  {
   "cell_type": "code",
   "execution_count": 9,
   "metadata": {},
   "outputs": [
    {
     "data": {
      "text/plain": [
       "Text(0.5, 1.0, 'SPECTROGRAM')"
      ]
     },
     "execution_count": 9,
     "metadata": {},
     "output_type": "execute_result"
    }
   ],
   "source": [
    "# plot the spectrogram\n",
    "\n",
    "fig, ax2 = plt.subplots(1, figsize=(15, 8))\n",
    "specgram2d(amplitude, srate=RATE, ax=ax2, title='SPECTROGRAM')\n",
    "ax2.set_title('SPECTROGRAM', fontsize=15)\n",
    "plt.show()\n",
    "plt.savefig('./output_images/spectrogram.png', bbox_inches='tight')\n",
    "\n",
    "# fig, ax2 = plt.subplots(1, figsize=(15, 8))\n",
    "ax2.set_title('SPECTROGRAM', fontsize=15)\n",
    "# ax2.specgram(amplitude[signal_start:signal_end], NFFT=1024, Fs=RATE, scale='dB', noverlap=900)\n",
    "# plt.show()\n",
    "# plt.savefig('./output_images/spectrogram.png', bbox_inches='tight')"
   ]
  },
  {
   "cell_type": "markdown",
   "metadata": {},
   "source": [
    "Note that the x-axis of the waveform is just the np_array indices. If we wanted to see the time in seconds instead, we could divide each x-axis value by the sample rate."
   ]
  },
  {
   "cell_type": "markdown",
   "metadata": {},
   "source": [
    "## FFT of the signal"
   ]
  },
  {
   "cell_type": "markdown",
   "metadata": {},
   "source": [
    "### Original signal"
   ]
  },
  {
   "cell_type": "code",
   "execution_count": 24,
   "metadata": {},
   "outputs": [],
   "source": [
    "signal_start = 55000\n",
    "signal_end = 350000"
   ]
  },
  {
   "cell_type": "code",
   "execution_count": 31,
   "metadata": {},
   "outputs": [
    {
     "name": "stdout",
     "output_type": "stream",
     "text": [
      "Peak frequency: 744.766780\n"
     ]
    },
    {
     "name": "stderr",
     "output_type": "stream",
     "text": [
      "C:\\Users\\loren\\anaconda3\\lib\\site-packages\\ipykernel\\eventloops.py:105: UserWarning: This figure includes Axes that are not compatible with tight_layout, so results might be incorrect.\n",
      "  app.exec_()\n"
     ]
    }
   ],
   "source": [
    "# FFT of the signal\n",
    "sig_fft = fftpack.fft(amplitude[signal_start:signal_end])\n",
    "\n",
    "# power (sig_fft is of complex dtype)\n",
    "power = np.abs(sig_fft) \n",
    "\n",
    "# return the corresponding frequencies\n",
    "sample_freq = fftpack.fftfreq(amplitude[signal_start:signal_end].size, d=1/RATE)\n",
    "\n",
    "# find the peak frequency (focus only on only the positive frequencies)\n",
    "pos_mask = np.where(sample_freq > 0)\n",
    "freqs = sample_freq[pos_mask]\n",
    "pos_power = power[pos_mask]\n",
    "\n",
    "# find the max of freqs array\n",
    "peak_freq = freqs[pos_power.argmax()]\n",
    "print(\"Peak frequency: %.6f\" %peak_freq)\n",
    "\n",
    "# plot the FFT power\n",
    "plt.figure(figsize=(15, 8))\n",
    "plt.plot(freqs, pos_power)\n",
    "plt.title('FFT of the signal', fontsize=15)\n",
    "plt.xlabel('Frequency [Hz]', fontsize=14)\n",
    "plt.ylabel('Power [a.u.]', fontsize=14)\n",
    "\n",
    "# inner plot to show the peak frequency\n",
    "axes = plt.axes([0.62, 0.42, 0.25, 0.4])\n",
    "#plt.title('Peak frequency', fontsize=14)\n",
    "plt.plot(freqs[int(0*peak_freq):int(45*peak_freq)], pos_power[int(0*peak_freq):int(45*peak_freq)])\n",
    "# plt.plot(freqs[0:35000], pos_power[0:35000])\n",
    "plt.setp(axes, yticks=[])\n",
    "plt.show()\n",
    "plt.savefig('output_images/FFT.png', bbox_inches='tight')\n",
    "\n",
    "# scipy.signal.find_peaks_cwt can also be used for more advanced peak detection"
   ]
  },
  {
   "cell_type": "markdown",
   "metadata": {},
   "source": [
    "### Clipped signal"
   ]
  },
  {
   "cell_type": "code",
   "execution_count": 13,
   "metadata": {},
   "outputs": [],
   "source": [
    "clipping_start = 290000\n",
    "clipping_end = 370000"
   ]
  },
  {
   "cell_type": "code",
   "execution_count": 14,
   "metadata": {},
   "outputs": [
    {
     "name": "stdout",
     "output_type": "stream",
     "text": [
      "Peak frequency: 400.207500\n"
     ]
    }
   ],
   "source": [
    "# FFT of the signal\n",
    "sig_fft = fftpack.fft(amplitude[clipping_start:clipping_end])\n",
    "\n",
    "# power (sig_fft is of complex dtype)\n",
    "power = np.abs(sig_fft) \n",
    "\n",
    "# return the corresponding frequencies\n",
    "sample_freq = fftpack.fftfreq(amplitude[clipping_start:clipping_end].size, d=1/RATE)\n",
    "\n",
    "# find the peak frequency (focus only on only the positive frequencies)\n",
    "pos_mask = np.where(sample_freq > 0)\n",
    "freqs = sample_freq[pos_mask]\n",
    "pos_power = power[pos_mask]\n",
    "\n",
    "# find the max of freqs array\n",
    "peak_freq = freqs[pos_power.argmax()]\n",
    "print(\"Peak frequency: %.6f\" %peak_freq)\n",
    "\n",
    "# plot the FFT power\n",
    "plt.figure(figsize=(15, 8))\n",
    "plt.plot(freqs, pos_power)\n",
    "plt.title('FFT of the signal', fontsize=15)\n",
    "plt.xlabel('Frequency [Hz]', fontsize=14)\n",
    "plt.ylabel('Power [a.u.]', fontsize=14)\n",
    "plt.show()\n",
    "plt.savefig('output_images/FFT_clipped.png', bbox_inches='tight')"
   ]
  },
  {
   "cell_type": "markdown",
   "metadata": {},
   "source": [
    "## Inverse FFT "
   ]
  },
  {
   "cell_type": "code",
   "execution_count": null,
   "metadata": {},
   "outputs": [],
   "source": [
    "high_freq_fft = sig_fft.copy()\n",
    "# filter (set to zero) all high frequency components that are larger than peak_freq\n",
    "high_freq_fft[np.abs(sample_freq) > peak_freq] = 0\n",
    "# calculate the Inverse Fast Fourier Transform\n",
    "filtered_sig = fftpack.ifft(high_freq_fft)\n",
    "# only take the real part\n",
    "real_filtered_signal = np.real(filtered_sig)\n",
    "\n",
    "# plot the result of the IFFT\n",
    "plot_range_min = 200000\n",
    "plot_range_max = 200000+1000\n",
    "plt.figure(figsize=(15, 8))\n",
    "plt.plot(amplitude[plot_range_min:plot_range_max], alpha=0.5, label='Original signal')\n",
    "plt.plot(real_filtered_signal[plot_range_min:plot_range_max], linewidth=3, label='Filtered signal (FTT)')\n",
    "plt.xlabel('Samples')\n",
    "plt.ylabel('Amplitude')\n",
    "plt.legend(loc='best')\n",
    "plt.show()"
   ]
  },
  {
   "cell_type": "code",
   "execution_count": null,
   "metadata": {},
   "outputs": [],
   "source": []
  }
 ],
 "metadata": {
  "interpreter": {
   "hash": "927d6aa93355da8a3b2cb214f5541d9939fc72c090640a18bce73818c0d7a619"
  },
  "kernelspec": {
   "display_name": "Python 3 (ipykernel)",
   "language": "python",
   "name": "python3"
  },
  "language_info": {
   "codemirror_mode": {
    "name": "ipython",
    "version": 3
   },
   "file_extension": ".py",
   "mimetype": "text/x-python",
   "name": "python",
   "nbconvert_exporter": "python",
   "pygments_lexer": "ipython3",
   "version": "3.8.10"
  }
 },
 "nbformat": 4,
 "nbformat_minor": 4
}
